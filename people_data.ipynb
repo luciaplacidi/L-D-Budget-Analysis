{
 "cells": [
  {
   "cell_type": "markdown",
   "id": "1b68f68e",
   "metadata": {},
   "source": [
    "# HR Dataset Generation\n",
    "\n",
    "This notebook generates four synthetic datasets for HR and L&D analysis."
   ]
  },
  {
   "cell_type": "markdown",
   "id": "be45dd43",
   "metadata": {},
   "source": [
    "**Datasets generated:**\n",
    "- `employee_master`: Employee demographics and job data\n",
    "- `ld_spend`: Learning & Development spend per employee (randomized)\n",
    "- `performance_scores`: Performance ratings across 5 quarters\n",
    "- `satisfaction_engagement`: Quarterly job satisfaction and engagement scores"
   ]
  },
  {
   "cell_type": "code",
   "execution_count": null,
   "id": "79ac76cb",
   "metadata": {},
   "outputs": [],
   "source": [
    "import pandas as pd\n",
    "import numpy as np\n",
    "\n",
    "rng = np.random.default_rng(42)\n",
    "N_EMP = 500\n",
    "DEPTS = [\"Sales\", \"Engineering\", \"HR\", \"Marketing\", \"Finance\"]\n",
    "LEVELS = [\"Junior\", \"Mid\", \"Senior\", \"Lead\"]\n",
    "GENDERS = [\"Female\", \"Male\", \"Non-binary\"]\n",
    "ETHNICITIES = [\"White\", \"Asian\", \"Black\", \"Latinx\", \"Indigenous\", \"Other\"]\n",
    "STATUSES = [\"Active\", \"Terminated\"]\n",
    "TODAY = pd.Timestamp(\"2025-06-30\")"
   ]
  },
  {
   "cell_type": "markdown",
   "id": "ca1b693a",
   "metadata": {},
   "source": [
    "## 1. `employee_master`"
   ]
  },
  {
   "cell_type": "code",
   "execution_count": null,
   "id": "2d92bfdf",
   "metadata": {},
   "outputs": [],
   "source": [
    "emp = pd.DataFrame({\n",
    "    \"emp_id\": np.arange(1, N_EMP + 1),\n",
    "    \"dept\": rng.choice(DEPTS, N_EMP),\n",
    "    \"level\": rng.choice(LEVELS, N_EMP, p=[0.3, 0.4, 0.2, 0.1]),\n",
    "    \"gender\": rng.choice(GENDERS, N_EMP),\n",
    "    \"ethnicity\": rng.choice(ETHNICITIES, N_EMP),\n",
    "    \"fte\": rng.choice([1.0, 0.8], size=N_EMP, p=[0.75, 0.25]),\n",
    "    \"hire_date\": pd.to_datetime(\"2020-01-01\") + pd.to_timedelta(rng.integers(0, 365*4, N_EMP), unit=\"D\"),\n",
    "    \"status\": rng.choice(STATUSES, N_EMP, p=[0.85, 0.15]),\n",
    "    \"age_on_hire\": rng.integers(21, 60, size=N_EMP)\n",
    "})\n",
    "emp[\"tenure_yrs\"] = ((TODAY - emp[\"hire_date\"]).dt.days / 365).round(2)"
   ]
  },
  {
   "cell_type": "markdown",
   "id": "74d43e7b",
   "metadata": {},
   "source": [
    "## 2. `ld_spend`"
   ]
  },
  {
   "cell_type": "code",
   "execution_count": null,
   "id": "35ac3c46",
   "metadata": {},
   "outputs": [],
   "source": [
    "LD_BUDGET_CAP = 1000\n",
    "prob_spend = 0.70\n",
    "did_spend = rng.random(N_EMP) < prob_spend\n",
    "ld_spend = np.where(\n",
    "    did_spend,\n",
    "    np.round(rng.uniform(1, LD_BUDGET_CAP, size=N_EMP) / 10) * 10,\n",
    "    0\n",
    ").astype(int)\n",
    "\n",
    "ld_spend_df = pd.DataFrame({\n",
    "    \"emp_id\": emp[\"emp_id\"],\n",
    "    \"ld_spend\": ld_spend\n",
    "})"
   ]
  },
  {
   "cell_type": "markdown",
   "id": "92adb38c",
   "metadata": {},
   "source": [
    "## 3. `performance_scores`"
   ]
  },
  {
   "cell_type": "code",
   "execution_count": null,
   "id": "63dde0b3",
   "metadata": {},
   "outputs": [],
   "source": [
    "def perf_growth(row):\n",
    "    spend_amt = ld_spend_df.loc[ld_spend_df['emp_id'] == row[\"emp_id\"], \"ld_spend\"].values[0]\n",
    "    bump = (spend_amt / 1000) * rng.normal(2.0, 0.8)\n",
    "    noise = rng.normal(0, 1.8)\n",
    "    return np.clip(row[\"perf_q0\"] + bump + noise, 30, 100)\n",
    "\n",
    "emp[\"perf_q0\"] = rng.normal(70, 10, N_EMP).clip(30, 95).round(1)\n",
    "for i in range(1, 5):\n",
    "    emp[f\"perf_q{i}\"] = emp.apply(perf_growth, axis=1)\n",
    "\n",
    "performance_scores = emp.melt(\n",
    "    id_vars=\"emp_id\",\n",
    "    value_vars=[\"perf_q0\", \"perf_q1\", \"perf_q2\", \"perf_q3\", \"perf_q4\"],\n",
    "    var_name=\"quarter\",\n",
    "    value_name=\"performance\"\n",
    ")\n",
    "performance_scores[\"quarter\"] = performance_scores[\"quarter\"].str.upper()"
   ]
  },
  {
   "cell_type": "markdown",
   "id": "2c25096e",
   "metadata": {},
   "source": [
    "## 4. `satisfaction_engagement`"
   ]
  },
  {
   "cell_type": "code",
   "execution_count": null,
   "id": "3f008a8d",
   "metadata": {},
   "outputs": [],
   "source": [
    "satisfaction_engagement = pd.DataFrame({\n",
    "    \"emp_id\": np.repeat(emp[\"emp_id\"], 4),\n",
    "    \"quarter\": [\"Q1\", \"Q2\", \"Q3\", \"Q4\"] * N_EMP,\n",
    "    \"satisfaction_score\": rng.normal(3.5, 0.8, N_EMP * 4).clip(1, 5).round(2),\n",
    "    \"engagement_score\": rng.normal(70, 15, N_EMP * 4).clip(20, 100).round(1)\n",
    "})"
   ]
  }
 ],
 "metadata": {
  "kernelspec": {
   "display_name": "Python [conda env:base] *",
   "language": "python",
   "name": "conda-base-py"
  },
  "language_info": {
   "codemirror_mode": {
    "name": "ipython",
    "version": 3
   },
   "file_extension": ".py",
   "mimetype": "text/x-python",
   "name": "python",
   "nbconvert_exporter": "python",
   "pygments_lexer": "ipython3",
   "version": "3.13.5"
  }
 },
 "nbformat": 4,
 "nbformat_minor": 5
}
